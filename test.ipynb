{
 "cells": [
  {
   "cell_type": "code",
   "execution_count": null,
   "metadata": {},
   "outputs": [],
   "source": [
    "import numpy as np \n",
    "import matplotlib.pyplot as pyplot"
   ]
  },
  {
   "cell_type": "code",
   "execution_count": null,
   "metadata": {},
   "outputs": [],
   "source": [
    "# plot Gaussian Function\n",
    "# 注：正态分布也叫高斯分布\n",
    "import matplotlib.pyplot as plt\n",
    "import numpy as np\n",
    " \n",
    "u1 = 0  # 第一个高斯分布的均值\n",
    "sigma1 = 1  # 第一个高斯分布的标准差\n",
    " \n",
    "u2 = 1  # 第二个高斯分布的均值\n",
    "sigma2 = 2  # 第二个高斯分布的标准差\n",
    "x = np.arange(-5, 5, 0.1)\n",
    "# 表示第一个高斯分布函数\n",
    "y1 = np.multiply(np.power(np.sqrt(2 * np.pi) * sigma1, -1), np.exp(-np.power(x - u1, 2) / 2 * sigma1 ** 2))\n",
    "# 表示第二个高斯分布函数\n",
    "y2 = np.multiply(np.power(np.sqrt(2 * np.pi) * sigma2, -1), np.exp(-np.power(x - u2, 2) / 2 * sigma2 ** 2))\n",
    " \n",
    "plt.rcParams['font.sans-serif'] = ['SimHei']  # 解决pythonmatplotlib绘图无法显示中文的问题\n",
    "plt.rcParams['axes.unicode_minus'] = False  # 用来正常显示负号\n",
    " \n",
    "plt.subplot(121)\n",
    "plt.plot(x, y1, 'b-', linewidth=2)\n",
    "plt.title(\"高斯分布函数图像\")\n",
    " \n",
    "plt.subplot(122)\n",
    "plt.plot(x, y2, 'r-', linewidth=2)\n",
    "plt.title('高斯分布函数图像')\n",
    "plt.show()"
   ]
  },
  {
   "cell_type": "code",
   "execution_count": null,
   "metadata": {},
   "outputs": [],
   "source": []
  }
 ],
 "metadata": {
  "language_info": {
   "name": "python"
  },
  "orig_nbformat": 4
 },
 "nbformat": 4,
 "nbformat_minor": 2
}
